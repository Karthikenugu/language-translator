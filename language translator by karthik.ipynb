{
 "cells": [
  {
   "cell_type": "code",
   "execution_count": 1,
   "id": "2340c8f8",
   "metadata": {},
   "outputs": [
    {
     "name": "stdout",
     "output_type": "stream",
     "text": [
      "Requirement already satisfied: tk in c:\\users\\karthik\\anaconda3\\lib\\site-packages (0.1.0)\n",
      "Note: you may need to restart the kernel to use updated packages.\n"
     ]
    },
    {
     "name": "stderr",
     "output_type": "stream",
     "text": [
      "WARNING: Ignoring invalid distribution -pencv-python (c:\\users\\karthik\\anaconda3\\lib\\site-packages)\n",
      "WARNING: Ignoring invalid distribution -pencv-python (c:\\users\\karthik\\anaconda3\\lib\\site-packages)\n",
      "WARNING: Ignoring invalid distribution -pencv-python (c:\\users\\karthik\\anaconda3\\lib\\site-packages)\n",
      "WARNING: Ignoring invalid distribution -pencv-python (c:\\users\\karthik\\anaconda3\\lib\\site-packages)\n",
      "WARNING: Ignoring invalid distribution -pencv-python (c:\\users\\karthik\\anaconda3\\lib\\site-packages)\n",
      "WARNING: Ignoring invalid distribution -pencv-python (c:\\users\\karthik\\anaconda3\\lib\\site-packages)\n"
     ]
    }
   ],
   "source": [
    "pip install tk"
   ]
  },
  {
   "cell_type": "code",
   "execution_count": 56,
   "id": "d7854ca4",
   "metadata": {},
   "outputs": [
    {
     "name": "stdout",
     "output_type": "stream",
     "text": [
      "Collecting deep_translator\n",
      "  Downloading deep_translator-1.11.4-py3-none-any.whl (42 kB)\n",
      "Requirement already satisfied: requests<3.0.0,>=2.23.0 in c:\\users\\karthik\\anaconda3\\lib\\site-packages (from deep_translator) (2.27.1)\n",
      "Requirement already satisfied: beautifulsoup4<5.0.0,>=4.9.1 in c:\\users\\karthik\\anaconda3\\lib\\site-packages (from deep_translator) (4.11.1)\n",
      "Requirement already satisfied: soupsieve>1.2 in c:\\users\\karthik\\anaconda3\\lib\\site-packages (from beautifulsoup4<5.0.0,>=4.9.1->deep_translator) (2.3.1)\n",
      "Requirement already satisfied: urllib3<1.27,>=1.21.1 in c:\\users\\karthik\\anaconda3\\lib\\site-packages (from requests<3.0.0,>=2.23.0->deep_translator) (1.26.9)\n",
      "Requirement already satisfied: charset-normalizer~=2.0.0 in c:\\users\\karthik\\anaconda3\\lib\\site-packages (from requests<3.0.0,>=2.23.0->deep_translator) (2.0.4)\n",
      "Requirement already satisfied: certifi>=2017.4.17 in c:\\users\\karthik\\anaconda3\\lib\\site-packages (from requests<3.0.0,>=2.23.0->deep_translator) (2023.11.17)\n",
      "Requirement already satisfied: idna<4,>=2.5 in c:\\users\\karthik\\anaconda3\\lib\\site-packages (from requests<3.0.0,>=2.23.0->deep_translator) (2.10)\n",
      "Installing collected packages: deep-translator\n",
      "Successfully installed deep-translator-1.11.4\n",
      "Note: you may need to restart the kernel to use updated packages.\n"
     ]
    },
    {
     "name": "stderr",
     "output_type": "stream",
     "text": [
      "WARNING: Ignoring invalid distribution -pencv-python (c:\\users\\karthik\\anaconda3\\lib\\site-packages)\n",
      "WARNING: Ignoring invalid distribution -pencv-python (c:\\users\\karthik\\anaconda3\\lib\\site-packages)\n",
      "WARNING: Ignoring invalid distribution -pencv-python (c:\\users\\karthik\\anaconda3\\lib\\site-packages)\n",
      "WARNING: Ignoring invalid distribution -pencv-python (c:\\users\\karthik\\anaconda3\\lib\\site-packages)\n",
      "WARNING: Ignoring invalid distribution -pencv-python (c:\\users\\karthik\\anaconda3\\lib\\site-packages)\n",
      "WARNING: Ignoring invalid distribution -pencv-python (c:\\users\\karthik\\anaconda3\\lib\\site-packages)\n",
      "WARNING: Ignoring invalid distribution -pencv-python (c:\\users\\karthik\\anaconda3\\lib\\site-packages)\n"
     ]
    }
   ],
   "source": [
    "pip install deep_translator"
   ]
  },
  {
   "cell_type": "code",
   "execution_count": 59,
   "id": "a7725179",
   "metadata": {},
   "outputs": [],
   "source": [
    "import tkinter as tk\n",
    "from deep_translator import GoogleTranslator\n",
    "\n",
    "class LanguageTranslatorGUI:\n",
    "    def __init__(self, root):\n",
    "        self.root = root\n",
    "        self.root.title(\"English to Telugu Translator\")\n",
    "        \n",
    "        self.entry_frame = tk.Frame(root)\n",
    "        self.entry_frame.pack()\n",
    "        self.text_entry = tk.Text(self.entry_frame, height=10, width=50)\n",
    "        self.text_entry.pack(side=tk.LEFT, fill=tk.BOTH, expand=True)\n",
    "        \n",
    "        self.options_frame = tk.Frame(root)\n",
    "        self.options_frame.pack()\n",
    "        self.translate_button = tk.Button(self.options_frame, text=\"Translate\", command=self.translate_text)\n",
    "        self.translate_button.pack(side=tk.LEFT, padx=5)\n",
    "        self.clear_button = tk.Button(self.options_frame, text=\"Clear\", command=self.clear_text)\n",
    "        self.clear_button.pack(side=tk.LEFT, padx=5)\n",
    "        \n",
    "        self.translation_frame = tk.Frame(root)\n",
    "        self.translation_frame.pack()\n",
    "        self.translation_text = tk.Text(self.translation_frame, height=10, width=50, state='disabled')\n",
    "        self.translation_text.pack(side=tk.LEFT, fill=tk.BOTH, expand=True)\n",
    "        \n",
    "        self.root.bind(\"<Configure>\", self.resize_text_boxes)\n",
    "    \n",
    "    def translate_text(self):\n",
    "        input_text = self.text_entry.get(\"1.0\", tk.END).strip()\n",
    "        if not input_text:\n",
    "            self.translation_text.config(state='normal')\n",
    "            self.translation_text.delete(\"1.0\", tk.END)\n",
    "            self.translation_text.config(state='disabled')\n",
    "            return\n",
    "        \n",
    "        translated_text = GoogleTranslator(source='en', target='te').translate(input_text)\n",
    "        \n",
    "        self.translation_text.config(state='normal')\n",
    "        self.translation_text.delete(\"1.0\", tk.END)\n",
    "        self.translation_text.insert(tk.END, translated_text)\n",
    "        self.translation_text.config(state='disabled')\n",
    "    \n",
    "    def clear_text(self):\n",
    "        self.text_entry.delete(\"1.0\", tk.END)\n",
    "        self.translation_text.config(state='normal')\n",
    "        self.translation_text.delete(\"1.0\", tk.END)\n",
    "        self.translation_text.config(state='disabled')\n",
    "    \n",
    "    def resize_text_boxes(self, event):\n",
    "        window_width = self.root.winfo_width()\n",
    "        window_height = self.root.winfo_height()\n",
    "        self.text_entry.config(width=int(window_width / 10), height=int(window_height / 30))\n",
    "        self.translation_text.config(width=int(window_width / 10), height=int(window_height / 30))\n"
   ]
  },
  {
   "cell_type": "code",
   "execution_count": 60,
   "id": "dc492857",
   "metadata": {},
   "outputs": [],
   "source": [
    "root = tk.Tk()\n",
    "app = LanguageTranslatorGUI(root)\n",
    "root.mainloop()"
   ]
  },
  {
   "cell_type": "code",
   "execution_count": null,
   "id": "0c62d9ef",
   "metadata": {},
   "outputs": [],
   "source": []
  },
  {
   "cell_type": "code",
   "execution_count": null,
   "id": "a2ee8619",
   "metadata": {},
   "outputs": [],
   "source": []
  }
 ],
 "metadata": {
  "kernelspec": {
   "display_name": "Python 3 (ipykernel)",
   "language": "python",
   "name": "python3"
  },
  "language_info": {
   "codemirror_mode": {
    "name": "ipython",
    "version": 3
   },
   "file_extension": ".py",
   "mimetype": "text/x-python",
   "name": "python",
   "nbconvert_exporter": "python",
   "pygments_lexer": "ipython3",
   "version": "3.9.12"
  }
 },
 "nbformat": 4,
 "nbformat_minor": 5
}
